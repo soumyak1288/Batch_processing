{
 "cells": [
  {
   "cell_type": "code",
   "execution_count": 19,
   "metadata": {},
   "outputs": [],
   "source": [
    "import requests\n",
    "import json\n",
    "from pyspark.sql.functions import *\n",
    "from pyspark.sql import *\n",
    "from pyspark.sql.types import MapType"
   ]
  },
  {
   "cell_type": "code",
   "execution_count": 20,
   "metadata": {},
   "outputs": [],
   "source": [
    "url=\" https://random-data-api.com/api/v2/users?size=100\"\n",
    "\n",
    "response=requests.get(url=url)\n",
    "res_json=response.json()"
   ]
  },
  {
   "cell_type": "code",
   "execution_count": 21,
   "metadata": {},
   "outputs": [],
   "source": [
    "spark=SparkSession.builder.appName(\"mycompany dataframe\").config(\"spark.driver.extraClassPath\",\"mysql-connector-j-8.1.0.jar\").config('spark.jars.packages',\"com.mysql:mysql-connector-j:8.1.0\").getOrCreate()"
   ]
  },
  {
   "cell_type": "code",
   "execution_count": 22,
   "metadata": {},
   "outputs": [],
   "source": [
    "df=spark.createDataFrame(res_json)"
   ]
  },
  {
   "cell_type": "code",
   "execution_count": 23,
   "metadata": {},
   "outputs": [],
   "source": [
    "column_for_normal=[]\n",
    "column_for_maptype=[]\n",
    "\n",
    "for x in range(len(df.columns)):\n",
    "    if isinstance(df.schema[df.columns[x]].dataType,MapType):\n",
    "        column_for_maptype.append(df.columns[x])\n",
    "    else:\n",
    "        column_for_normal.append(df.columns[x])\n"
   ]
  },
  {
   "cell_type": "code",
   "execution_count": 24,
   "metadata": {},
   "outputs": [
    {
     "name": "stdout",
     "output_type": "stream",
     "text": [
      "['address', 'credit_card', 'employment', 'subscription']\n",
      "['avatar', 'date_of_birth', 'email', 'first_name', 'gender', 'id', 'last_name', 'password', 'phone_number', 'social_insurance_number', 'uid', 'username']\n"
     ]
    }
   ],
   "source": [
    "print(column_for_maptype)\n",
    "print(column_for_normal)"
   ]
  },
  {
   "cell_type": "code",
   "execution_count": 25,
   "metadata": {},
   "outputs": [],
   "source": [
    "final_df=df.select(*column_for_normal)"
   ]
  },
  {
   "cell_type": "code",
   "execution_count": 26,
   "metadata": {},
   "outputs": [],
   "source": [
    "for a in range(len(column_for_maptype)):\n",
    "    s=df.select(\"*\",explode(column_for_maptype[a])).groupBy(\"id\").pivot(\"key\").agg(first(\"value\"))\n",
    "    final_df=final_df.join(s,\"id\")\n",
    "    "
   ]
  },
  {
   "cell_type": "code",
   "execution_count": 28,
   "metadata": {},
   "outputs": [],
   "source": [
    "final_df.write\\\n",
    ".format(\"jdbc\")\\\n",
    ".option(\"driver\",\"com.mysql.cj.jdbc.Driver\")\\\n",
    ".option(\"url\",\"jdbc:mysql://127.0.0.1:3306/gh\")\\\n",
    ".option(\"dbtable\",\"company\")\\\n",
    ".option(\"user\",\"root\")\\\n",
    ".option(\"password\",\"root\")\\\n",
    ".save()"
   ]
  }
 ],
 "metadata": {
  "kernelspec": {
   "display_name": "Python 3",
   "language": "python",
   "name": "python3"
  },
  "language_info": {
   "codemirror_mode": {
    "name": "ipython",
    "version": 3
   },
   "file_extension": ".py",
   "mimetype": "text/x-python",
   "name": "python",
   "nbconvert_exporter": "python",
   "pygments_lexer": "ipython3",
   "version": "3.11.4"
  },
  "orig_nbformat": 4
 },
 "nbformat": 4,
 "nbformat_minor": 2
}
